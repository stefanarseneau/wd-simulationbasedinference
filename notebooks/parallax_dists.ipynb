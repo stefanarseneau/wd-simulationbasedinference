{
 "cells": [
  {
   "cell_type": "code",
   "execution_count": 13,
   "metadata": {},
   "outputs": [],
   "source": [
    "import numpy as np\n",
    "import pandas as pd\n",
    "\n",
    "import pyvo\n",
    "from astroquery.gaia import Gaia"
   ]
  },
  {
   "cell_type": "code",
   "execution_count": 14,
   "metadata": {},
   "outputs": [],
   "source": [
    "def sample(x, size):\n",
    "    x = np.random.shuffle(x)\n",
    "    return x[:size]"
   ]
  },
  {
   "cell_type": "code",
   "execution_count": 17,
   "metadata": {},
   "outputs": [],
   "source": [
    "def get_ngf21():\n",
    "    tap_service = pyvo.dal.TAPService(\"http://TAPVizieR.u-strasbg.fr/TAPVizieR/tap/\")\n",
    "    QUERY = f\"\"\"select top 10000 GaiaDR3 as source_id, Plx, e_Plx\n",
    "            from \\\"J/MNRAS/508/3877/maincat\\\" as ngf\n",
    "            join \\\"J/A+A/674/A33/gspc-wd\\\" as gspc \n",
    "            on ngf.GaiaEDR3 = gspc.GaiaDR3\n",
    "            where ngf.e_TeffH is not NULL and ngf.e_loggH is not NULL and ngf.e_TeffHe is not NULL and ngf.e_loggHe is not NULL\n",
    "            and RAND() < 0.01\"\"\"\n",
    "    ngfwds = tap_service.search(QUERY).to_table().to_pandas()\n",
    "    gaiaquery = f\"\"\"select source_id, r_med_geo\n",
    "                from external.gaiaedr3_distance\n",
    "                where source_id in {tuple(ngfwds.source_id)}\"\"\"\n",
    "    gaiadists = Gaia.launch_job_async(gaiaquery).get_results().to_pandas()\n",
    "    return pd.merge(ngfwds, gaiadists, on=\"source_id\")\n",
    "\n",
    "def get_plx_data():\n",
    "    \n",
    "\n",
    "    ngf21 = get_ngf21()\n",
    "    data = np.array([ngf21.Plx, ngf21.e_Plx]).T\n",
    "    return data"
   ]
  },
  {
   "cell_type": "code",
   "execution_count": 20,
   "metadata": {},
   "outputs": [],
   "source": [
    "tap_service = pyvo.dal.TAPService(\"http://TAPVizieR.u-strasbg.fr/TAPVizieR/tap/\")\n",
    "QUERY = f\"\"\"select top 10000 GaiaDR3 as source_id, Plx, e_Plx\n",
    "        from \\\"J/MNRAS/508/3877/maincat\\\" as ngf\n",
    "        join \\\"J/A+A/674/A33/gspc-wd\\\" as gspc \n",
    "        on ngf.GaiaEDR3 = gspc.GaiaDR3\n",
    "        where ngf.e_TeffH is not NULL and ngf.e_loggH is not NULL and ngf.e_TeffHe is not NULL and ngf.e_loggHe is not NULL\n",
    "        and RAND() < 0.01\"\"\"\n",
    "ngfwds = tap_service.search(QUERY).to_table().to_pandas()"
   ]
  },
  {
   "cell_type": "code",
   "execution_count": 25,
   "metadata": {},
   "outputs": [
    {
     "name": "stdout",
     "output_type": "stream",
     "text": [
      "INFO: Query finished. [astroquery.utils.tap.core]\n"
     ]
    }
   ],
   "source": [
    "gaiaquery = f\"\"\"select source_id, r_med_geo\n",
    "            from external.gaiaedr3_distance\n",
    "            where source_id in {tuple(ngfwds.source_id)}\"\"\"\n",
    "gaiadists = Gaia.launch_job_async(gaiaquery).get_results().to_pandas()"
   ]
  },
  {
   "cell_type": "code",
   "execution_count": 11,
   "metadata": {},
   "outputs": [
    {
     "data": {
      "text/plain": [
       "array([[4.90667985e-27, 2.61949776e-28],\n",
       "       [6.10563685e-26, 2.48751098e-28],\n",
       "       [3.75777612e-25, 3.01012800e-28],\n",
       "       ...,\n",
       "       [2.09655917e-27, 2.53117242e-28],\n",
       "       [3.10313353e-26, 3.16193001e-28],\n",
       "       [7.14224623e-25, 3.35275570e-28]])"
      ]
     },
     "execution_count": 11,
     "metadata": {},
     "output_type": "execute_result"
    }
   ],
   "source": [
    "gaiadists"
   ]
  },
  {
   "cell_type": "code",
   "execution_count": 12,
   "metadata": {},
   "outputs": [
    {
     "ename": "ValueError",
     "evalue": "'p' must be 1-dimensional",
     "output_type": "error",
     "traceback": [
      "\u001b[0;31m---------------------------------------------------------------------------\u001b[0m",
      "\u001b[0;31mValueError\u001b[0m                                Traceback (most recent call last)",
      "Cell \u001b[0;32mIn[12], line 2\u001b[0m\n\u001b[1;32m      1\u001b[0m sampled_indices \u001b[38;5;241m=\u001b[39m np\u001b[38;5;241m.\u001b[39marray([\n\u001b[0;32m----> 2\u001b[0m             \u001b[43mnp\u001b[49m\u001b[38;5;241;43m.\u001b[39;49m\u001b[43mrandom\u001b[49m\u001b[38;5;241;43m.\u001b[39;49m\u001b[43mchoice\u001b[49m\u001b[43m(\u001b[49m\u001b[43mprob\u001b[49m\u001b[38;5;241;43m.\u001b[39;49m\u001b[43mshape\u001b[49m\u001b[43m[\u001b[49m\u001b[38;5;241;43m0\u001b[39;49m\u001b[43m]\u001b[49m\u001b[43m,\u001b[49m\u001b[43m \u001b[49m\u001b[43mp\u001b[49m\u001b[38;5;241;43m=\u001b[39;49m\u001b[43mprob\u001b[49m\u001b[43m,\u001b[49m\u001b[43m \u001b[49m\u001b[43msize\u001b[49m\u001b[38;5;241;43m=\u001b[39;49m\u001b[38;5;241;43m100\u001b[39;49m\u001b[43m)\u001b[49m\n\u001b[1;32m      3\u001b[0m             \u001b[38;5;28;01mfor\u001b[39;00m col_probs \u001b[38;5;129;01min\u001b[39;00m prob\u001b[38;5;241m.\u001b[39mT\n\u001b[1;32m      4\u001b[0m         ])\n",
      "File \u001b[0;32mnumpy/random/mtrand.pyx:966\u001b[0m, in \u001b[0;36mnumpy.random.mtrand.RandomState.choice\u001b[0;34m()\u001b[0m\n",
      "\u001b[0;31mValueError\u001b[0m: 'p' must be 1-dimensional"
     ]
    }
   ],
   "source": [
    "sampled_indices = np.array([\n",
    "            np.random.choice(prob.shape[0], p=prob, size=100)\n",
    "            for col_probs in prob.T\n",
    "        ])"
   ]
  },
  {
   "cell_type": "code",
   "execution_count": null,
   "metadata": {},
   "outputs": [],
   "source": []
  }
 ],
 "metadata": {
  "kernelspec": {
   "display_name": "stark",
   "language": "python",
   "name": "python3"
  },
  "language_info": {
   "codemirror_mode": {
    "name": "ipython",
    "version": 3
   },
   "file_extension": ".py",
   "mimetype": "text/x-python",
   "name": "python",
   "nbconvert_exporter": "python",
   "pygments_lexer": "ipython3",
   "version": "3.12.7"
  }
 },
 "nbformat": 4,
 "nbformat_minor": 2
}
